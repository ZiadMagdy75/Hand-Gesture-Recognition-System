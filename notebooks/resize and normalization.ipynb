{
 "cells": [
  {
   "cell_type": "code",
   "execution_count": null,
   "id": "2d9bc110",
   "metadata": {},
   "outputs": [],
   "source": [
    "import os\n",
    "import cv2\n",
    "import numpy as np\n",
    "\n",
    "input_folder = r\"data folder path\"\n",
    "output_folder = r\"the folder to store data\"\n",
    "os.makedirs(output_folder, exist_ok=True)\n",
    "\n",
    "all_images = []\n",
    "file_names = []\n",
    "\n",
    "for filename in os.listdir(input_folder):\n",
    "    if filename.lower().endswith(('.png', '.jpg', '.jpeg', '.bmp', '.tiff')):\n",
    "        img_path = os.path.join(input_folder, filename)\n",
    "        img = cv2.imread(img_path)\n",
    "        if img is not None:\n",
    "            img_resized = cv2.resize(img, (128, 128))\n",
    "            img_normalized = img_resized.astype('float32') / 255.0\n",
    "            all_images.append(img_normalized)\n",
    "            file_names.append(filename) # to store the name of each image\n",
    "\n",
    "all_images = np.array(all_images)\n",
    "\n",
    "\n",
    "np.savez(rf\"{output_folder}\\all_resized_images.npz\",\n",
    "         images=all_images, filenames=file_names)\n",
    "\n",
    "\n"
   ]
  }
 ],
 "metadata": {
  "kernelspec": {
   "display_name": "Python 3",
   "language": "python",
   "name": "python3"
  },
  "language_info": {
   "codemirror_mode": {
    "name": "ipython",
    "version": 3
   },
   "file_extension": ".py",
   "mimetype": "text/x-python",
   "name": "python",
   "nbconvert_exporter": "python",
   "pygments_lexer": "ipython3",
   "version": "3.13.5"
  }
 },
 "nbformat": 4,
 "nbformat_minor": 5
}
